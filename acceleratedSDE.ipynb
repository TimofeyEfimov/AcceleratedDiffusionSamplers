{
  "cells": [
    {
      "cell_type": "markdown",
      "metadata": {},
      "source": [
        "# The instructions to run the Acelerated SDE with the ImageNet-64 score functions in Google Colab. \n",
        "\n",
        "1. Switch the runtime by going into Runtime --> Change runtime type --> Choose GPU. Important to do that step first to avoid restarting the kernel later\n",
        "\n",
        "2. Clone the github repository into your google drive\n",
        "\n",
        "3. Download the weights from https://openaipublic.blob.core.windows.net/diffusion/march-2021/imagenet64_uncond_100M_1500K.pt \n",
        "   1. Upload them into the models folder in your cloned repo in Google Drive or any other path you prefer. This can be done just by going into the folder in Google Drive, without using any code. \n",
        "   2. Do the same for FID scores if you plan to compute them here.\n",
        "\n",
        "4. ./sample.sh runs the code, so go to that file, change GPU device to 0 if you run in Google Colab, then change the folder where you want to save the results. Also change the path to the weights you uploaded in Step 2. \n",
        "\n",
        "5. In num samples in the very end you can change batch size and total number of samples you want to sample.\n",
        "\n",
        "6. If you want to compute FID scores, repeat the same procedure as I did for sample.sh by changing folder paths, doing chmod +x for fidEval.sh and saving \n",
        "https://drive.google.com/drive/folders/1_OpTXVPLffZM8BG-V3Ahsxk99aqxW7C3?usp=sharing files into the folder you want. Then you just need to run fidEval.sh. \n"
      ]
    },
    {
      "cell_type": "code",
      "execution_count": null,
      "metadata": {},
      "outputs": [],
      "source": [
        "from google.colab import drive\n",
        "\n",
        "drive.mount('/content/gdrive/', force_remount=True)"
      ]
    },
    {
      "cell_type": "code",
      "execution_count": null,
      "metadata": {
        "id": "whvPxourwlvw"
      },
      "outputs": [],
      "source": [
        "!cd gdrive"
      ]
    },
    {
      "cell_type": "code",
      "execution_count": null,
      "metadata": {
        "colab": {
          "base_uri": "https://localhost:8080/"
        },
        "id": "D9bKM8f9wly1",
        "outputId": "2e6893ed-82ee-46ff-a461-2b4d08bf3e87"
      },
      "outputs": [
        {
          "name": "stdout",
          "output_type": "stream",
          "text": [
            "/content/gdrive/MyDrive/AcceleratedSDE\n"
          ]
        }
      ],
      "source": [
        "%cd /content/gdrive/MyDrive/AcceleratedSDE"
      ]
    },
    {
      "cell_type": "code",
      "execution_count": null,
      "metadata": {
        "colab": {
          "base_uri": "https://localhost:8080/"
        },
        "id": "Ga4vWF34w3bp",
        "outputId": "bd47115e-6185-471f-dcdd-e2e2ccd9370c"
      },
      "outputs": [
        {
          "name": "stdout",
          "output_type": "stream",
          "text": [
            "/content/gdrive/MyDrive/AcceleratedSDE\n"
          ]
        }
      ],
      "source": [
        "!pwd"
      ]
    },
    {
      "cell_type": "code",
      "execution_count": null,
      "metadata": {
        "colab": {
          "base_uri": "https://localhost:8080/"
        },
        "id": "4-d9KEGGw86s",
        "outputId": "1690d89c-3594-4fcf-c376-8ce239a2a9d5"
      },
      "outputs": [],
      "source": [
        "!git clone https://github.com/TimofeyEfimov/AcceleratedSDE.git /content/gdrive/MyDrive/AcceleratedSDE"
      ]
    },
    {
      "cell_type": "code",
      "execution_count": null,
      "metadata": {
        "id": "17in_Va-x1ht"
      },
      "outputs": [],
      "source": [
        "!chmod +x /content/gdrive/MyDrive/AcceleratedSDE/sample.sh"
      ]
    },
    {
      "cell_type": "code",
      "execution_count": null,
      "metadata": {
        "colab": {
          "base_uri": "https://localhost:8080/"
        },
        "id": "Fbfaay-DWeN0",
        "outputId": "0c97fce1-42b9-492e-847d-88a3f842aa27"
      },
      "outputs": [],
      "source": [
        "!pip install -q condacolab\n",
        "import condacolab\n",
        "condacolab.install() # expect a kernel restart"
      ]
    },
    {
      "cell_type": "code",
      "execution_count": null,
      "metadata": {
        "colab": {
          "base_uri": "https://localhost:8080/"
        },
        "id": "nm01sl9LW1Tj",
        "outputId": "a7a08207-9309-434c-a3e3-f5b6dd6f96e5"
      },
      "outputs": [],
      "source": [
        "%cd /content/gdrive/MyDrive/AcceleratedSDE"
      ]
    },
    {
      "cell_type": "code",
      "execution_count": null,
      "metadata": {
        "colab": {
          "base_uri": "https://localhost:8080/"
        },
        "id": "VcMOUeOgWhfY",
        "outputId": "3bf0f699-80e4-4c8a-d55a-6f18ed7bfd48"
      },
      "outputs": [],
      "source": [
        "!conda env list"
      ]
    },
    {
      "cell_type": "code",
      "execution_count": null,
      "metadata": {
        "colab": {
          "base_uri": "https://localhost:8080/"
        },
        "collapsed": true,
        "id": "TUP_ugnSWkDa",
        "outputId": "465243ac-4a49-4283-bf5c-6743a2a5d05a"
      },
      "outputs": [],
      "source": [
        "!conda env create -f environment.yml"
      ]
    },
    {
      "cell_type": "code",
      "execution_count": null,
      "metadata": {
        "colab": {
          "base_uri": "https://localhost:8080/"
        },
        "collapsed": true,
        "id": "m5hktJupXsCr",
        "outputId": "aecce8ba-759e-4339-9532-5f3c6f8cdf67"
      },
      "outputs": [],
      "source": [
        "!conda run -n impr pip install -e ."
      ]
    },
    {
      "cell_type": "code",
      "execution_count": null,
      "metadata": {
        "colab": {
          "base_uri": "https://localhost:8080/"
        },
        "id": "w_XGHbXGWvcS",
        "outputId": "8582c910-43cd-44c1-a1b8-e81049a40473"
      },
      "outputs": [],
      "source": [
        "!conda run -n impr bash sample.sh\n"
      ]
    }
  ],
  "metadata": {
    "accelerator": "GPU",
    "colab": {
      "gpuType": "A100",
      "machine_shape": "hm",
      "provenance": []
    },
    "kernelspec": {
      "display_name": "Python 3",
      "name": "python3"
    },
    "language_info": {
      "name": "python"
    }
  },
  "nbformat": 4,
  "nbformat_minor": 0
}
